{
 "cells": [
  {
   "cell_type": "markdown",
   "id": "d4027b3a",
   "metadata": {},
   "source": [
    "#\n",
    "Assignment 3\n",
    "CS150-01\n",
    "Computer Programming for the Liberal Arts\n",
    "FA 2023\n",
    "Student:  Keith Goodlett"
   ]
  },
  {
   "cell_type": "markdown",
   "id": "ff6cea47",
   "metadata": {},
   "source": [
    "Task 1: List Operations"
   ]
  },
  {
   "cell_type": "code",
   "execution_count": 6,
   "id": "476d5fc3",
   "metadata": {},
   "outputs": [
    {
     "data": {
      "text/plain": [
       "[10, 20, 30, 40, 50]"
      ]
     },
     "execution_count": 6,
     "metadata": {},
     "output_type": "execute_result"
    }
   ],
   "source": [
    "numbers=[10,20,30,40,50]\n",
    "numbers"
   ]
  },
  {
   "cell_type": "code",
   "execution_count": 7,
   "id": "d59b2bce",
   "metadata": {},
   "outputs": [
    {
     "data": {
      "text/plain": [
       "[10, 20, 30, 40, 50, 60]"
      ]
     },
     "execution_count": 7,
     "metadata": {},
     "output_type": "execute_result"
    }
   ],
   "source": [
    "numbers.append(60)\n",
    "numbers"
   ]
  },
  {
   "cell_type": "code",
   "execution_count": 9,
   "id": "d31d4c5b",
   "metadata": {},
   "outputs": [
    {
     "data": {
      "text/plain": [
       "[5, 10, 20, 30, 40, 50, 60]"
      ]
     },
     "execution_count": 9,
     "metadata": {},
     "output_type": "execute_result"
    }
   ],
   "source": [
    "numbers.insert(0, 5)\n",
    "numbers"
   ]
  },
  {
   "cell_type": "code",
   "execution_count": 10,
   "id": "6df1bbbf",
   "metadata": {},
   "outputs": [
    {
     "data": {
      "text/plain": [
       "[5, 20, 30, 40, 50, 60]"
      ]
     },
     "execution_count": 10,
     "metadata": {},
     "output_type": "execute_result"
    }
   ],
   "source": [
    "del numbers[1]\n",
    "numbers"
   ]
  },
  {
   "cell_type": "markdown",
   "id": "c41b2eb9",
   "metadata": {},
   "source": [
    "Task 2: Tuple Basics"
   ]
  },
  {
   "cell_type": "code",
   "execution_count": 14,
   "id": "a8b516e8",
   "metadata": {},
   "outputs": [
    {
     "data": {
      "text/plain": [
       "tuple"
      ]
     },
     "execution_count": 14,
     "metadata": {},
     "output_type": "execute_result"
    }
   ],
   "source": [
    "data=()\n",
    "type(data)"
   ]
  },
  {
   "cell_type": "code",
   "execution_count": 23,
   "id": "69df6d70",
   "metadata": {},
   "outputs": [],
   "source": [
    "days_tuple=('Monday', 'Tuesday', 'Wednesday', 'Thursday', 'Friday', 'Saturday', 'Sunday')"
   ]
  },
  {
   "cell_type": "code",
   "execution_count": 24,
   "id": "5bb021d6",
   "metadata": {},
   "outputs": [
    {
     "data": {
      "text/plain": [
       "'Wednesday'"
      ]
     },
     "execution_count": 24,
     "metadata": {},
     "output_type": "execute_result"
    }
   ],
   "source": [
    "days_tuple[2]"
   ]
  },
  {
   "cell_type": "code",
   "execution_count": 25,
   "id": "9398072f",
   "metadata": {},
   "outputs": [
    {
     "ename": "TypeError",
     "evalue": "'tuple' object does not support item assignment",
     "output_type": "error",
     "traceback": [
      "\u001b[1;31m---------------------------------------------------------------------------\u001b[0m",
      "\u001b[1;31mTypeError\u001b[0m                                 Traceback (most recent call last)",
      "Cell \u001b[1;32mIn[25], line 1\u001b[0m\n\u001b[1;32m----> 1\u001b[0m days_tuple[\u001b[38;5;241m1\u001b[39m]\u001b[38;5;241m=\u001b[39m\u001b[38;5;124m'\u001b[39m\u001b[38;5;124mFunday\u001b[39m\u001b[38;5;124m'\u001b[39m\n\u001b[0;32m      2\u001b[0m days_tuple\n",
      "\u001b[1;31mTypeError\u001b[0m: 'tuple' object does not support item assignment"
     ]
    }
   ],
   "source": [
    "days_tuple[1]='Funday'\n",
    "days_tuple"
   ]
  },
  {
   "cell_type": "code",
   "execution_count": 26,
   "id": "4fb2fad6",
   "metadata": {},
   "outputs": [],
   "source": [
    "# Can not change value of a tuple"
   ]
  },
  {
   "cell_type": "markdown",
   "id": "5ecaab7c",
   "metadata": {},
   "source": [
    "Task 3: Reversing Sublist"
   ]
  },
  {
   "cell_type": "code",
   "execution_count": 34,
   "id": "a77fb50c",
   "metadata": {},
   "outputs": [
    {
     "name": "stdout",
     "output_type": "stream",
     "text": [
      "['a', 'b', 'c', 'd', 'e', 'f', 'g', 'h', 'i', 'j', 'k', 'l', 'm', 'n', 'o', 'p', 'q', 'r', 's', 't', 'u', 'v', 'w', 'x', 'y', 'z']\n"
     ]
    }
   ],
   "source": [
    "letters=['a','b','c','d','e','f','g','h','i','j','k','l','m','n','o','p','q','r','s','t','u','v','w','x','y','z']\n",
    "print(letters)"
   ]
  },
  {
   "cell_type": "code",
   "execution_count": 37,
   "id": "1b82803b",
   "metadata": {},
   "outputs": [
    {
     "name": "stdout",
     "output_type": "stream",
     "text": [
      "['z', 'y', 'x', 'w', 'v', 'u', 't', 's', 'r', 'q', 'p', 'o', 'n', 'm', 'l', 'k', 'j', 'i', 'h', 'g', 'f', 'e', 'd', 'c', 'b', 'a']\n"
     ]
    }
   ],
   "source": [
    "letters.reverse()\n",
    "print(letters)"
   ]
  },
  {
   "cell_type": "code",
   "execution_count": 39,
   "id": "6d4f1e81",
   "metadata": {},
   "outputs": [
    {
     "data": {
      "text/plain": [
       "['p', 'o', 'n', 'm', 'l', 'k']"
      ]
     },
     "execution_count": 39,
     "metadata": {},
     "output_type": "execute_result"
    }
   ],
   "source": [
    "letters[10:16]"
   ]
  },
  {
   "cell_type": "code",
   "execution_count": 41,
   "id": "a6aff70d",
   "metadata": {},
   "outputs": [
    {
     "name": "stdout",
     "output_type": "stream",
     "text": [
      "['k', 'l', 'm', 'n', 'o', 'p']\n"
     ]
    }
   ],
   "source": [
    "new_list=letters[10:16]\n",
    "new_list.reverse()\n",
    "print(new_list)"
   ]
  },
  {
   "cell_type": "markdown",
   "id": "b8f93615",
   "metadata": {},
   "source": [
    "Task 4: Tuple Packing and Unpacking"
   ]
  },
  {
   "cell_type": "code",
   "execution_count": 42,
   "id": "dfe6846f",
   "metadata": {},
   "outputs": [],
   "source": [
    "student=('Keith', 'Goodlett', '55', 'Art')"
   ]
  },
  {
   "cell_type": "code",
   "execution_count": 44,
   "id": "0343646a",
   "metadata": {},
   "outputs": [
    {
     "data": {
      "text/plain": [
       "'Keith'"
      ]
     },
     "execution_count": 44,
     "metadata": {},
     "output_type": "execute_result"
    }
   ],
   "source": [
    "student[0]"
   ]
  },
  {
   "cell_type": "code",
   "execution_count": 45,
   "id": "4048967d",
   "metadata": {},
   "outputs": [
    {
     "data": {
      "text/plain": [
       "'Goodlett'"
      ]
     },
     "execution_count": 45,
     "metadata": {},
     "output_type": "execute_result"
    }
   ],
   "source": [
    "student[1]"
   ]
  },
  {
   "cell_type": "code",
   "execution_count": 46,
   "id": "958a92f8",
   "metadata": {},
   "outputs": [
    {
     "data": {
      "text/plain": [
       "'55'"
      ]
     },
     "execution_count": 46,
     "metadata": {},
     "output_type": "execute_result"
    }
   ],
   "source": [
    "student[2]"
   ]
  },
  {
   "cell_type": "code",
   "execution_count": 47,
   "id": "91dacfda",
   "metadata": {},
   "outputs": [
    {
     "data": {
      "text/plain": [
       "'Art'"
      ]
     },
     "execution_count": 47,
     "metadata": {},
     "output_type": "execute_result"
    }
   ],
   "source": [
    "student[3]"
   ]
  },
  {
   "cell_type": "markdown",
   "id": "79789f1e",
   "metadata": {},
   "source": [
    "Task 5: Shopping List"
   ]
  },
  {
   "cell_type": "code",
   "execution_count": 48,
   "id": "819af740",
   "metadata": {},
   "outputs": [
    {
     "data": {
      "text/plain": [
       "['Lettuce', 'Celery', 'Onion', 'Chicken', 'Eggs']"
      ]
     },
     "execution_count": 48,
     "metadata": {},
     "output_type": "execute_result"
    }
   ],
   "source": [
    "shopping_list=['Lettuce', 'Celery', 'Onion', 'Chicken', 'Eggs']\n",
    "shopping_list"
   ]
  },
  {
   "cell_type": "code",
   "execution_count": 49,
   "id": "0ebd4def",
   "metadata": {},
   "outputs": [
    {
     "data": {
      "text/plain": [
       "5"
      ]
     },
     "execution_count": 49,
     "metadata": {},
     "output_type": "execute_result"
    }
   ],
   "source": [
    "len(shopping_list)"
   ]
  },
  {
   "cell_type": "code",
   "execution_count": 50,
   "id": "87d7e927",
   "metadata": {},
   "outputs": [
    {
     "data": {
      "text/plain": [
       "['Lettuce', 'Celery', 'Shallots', 'Chicken', 'Eggs']"
      ]
     },
     "execution_count": 50,
     "metadata": {},
     "output_type": "execute_result"
    }
   ],
   "source": [
    "shopping_list[2]='Shallots'\n",
    "shopping_list"
   ]
  },
  {
   "cell_type": "code",
   "execution_count": 51,
   "id": "d50b35cc",
   "metadata": {},
   "outputs": [
    {
     "data": {
      "text/plain": [
       "['Celery', 'Chicken', 'Eggs', 'Lettuce', 'Shallots']"
      ]
     },
     "execution_count": 51,
     "metadata": {},
     "output_type": "execute_result"
    }
   ],
   "source": [
    "shopping_list.sort()\n",
    "shopping_list"
   ]
  },
  {
   "cell_type": "code",
   "execution_count": null,
   "id": "7fe73b54",
   "metadata": {},
   "outputs": [],
   "source": []
  }
 ],
 "metadata": {
  "kernelspec": {
   "display_name": "Python 3 (ipykernel)",
   "language": "python",
   "name": "python3"
  },
  "language_info": {
   "codemirror_mode": {
    "name": "ipython",
    "version": 3
   },
   "file_extension": ".py",
   "mimetype": "text/x-python",
   "name": "python",
   "nbconvert_exporter": "python",
   "pygments_lexer": "ipython3",
   "version": "3.11.5"
  }
 },
 "nbformat": 4,
 "nbformat_minor": 5
}
